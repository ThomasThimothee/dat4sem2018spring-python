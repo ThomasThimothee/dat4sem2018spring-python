{
 "cells": [
  {
   "cell_type": "markdown",
   "metadata": {},
   "source": [
    "# What is a Graph?\n",
    "\n",
    "\n",
    "## Undirected Graphs\n",
    "\n",
    "A *graph* $G$ consists of a nonempty set, $V(G)$, called the *vertices* of $G$, and a set $E(G)$ called the *edges* of $G$. An element of $V(G)$ is called a *vertex*. A vertex is also called a *node*; the words \"vertex\" and \"node\" are used interchangeably. An element of $E(G)$ is an *undirected* edge or simply an \"edge\". An undirected edge has two vertices $u\\neq v$ called its endpoints. Such an edge can be represented by the two element set $\\{u, v\\}$. The notation $\\langle u—v \\rangle$ denotes this edge.\n",
    "Both $\\langle u—v \\rangle$ and $\\langle v—u \\rangle$ define the same undirected edge, whose endpoints are $u$ and $v$.\n",
    "\n",
    "![](./images/graph_example.png)\n",
    "\n",
    "For example, let $H$ be the graph pictured in Figure above. The vertices of $H$\n",
    "correspond to the nine dots, that is, $V(H) = \\{a,b,c,d,e,f,g,h,i\\}$\n",
    "\n",
    "The edges correspond to the eight lines, that is,\n",
    "\n",
    "$E(H) = \\big\\{\\langle a—b \\rangle,\\langle a—c \\rangle,\\langle b—d \\rangle,\\langle c—d \\rangle,\\langle c—e \\rangle,\\langle e—f \\rangle,\\langle e—g \\rangle,\\langle h—i \\rangle\\big\\} $\n",
    "\n",
    "\n",
    "## Directed Graphs\n",
    "\n",
    "A *directed graph* -or *digraph*- $G$ consists of a nonempty set $V(G)$, called the vertices of $G$, and a set $E(G)$, called the edges of $G$. An element of $V(G)$ is called a *vertex*. A vertex is also called a *node*; the words \"vertex\" and \"node\" are used interchangeably. An element of $E(G)$ is called a *directed edge*. A directed edge is also called an \"arrow\" or simply an \"edge\". A directed edge starts at some vertex $u$ called the *tail* of the edge, and ends at some vertex $v$ called the *head* of the edge.\n",
    "\n",
    "![](./images/digraph_example.png)\n",
    "\n",
    "\n",
    "### Vertex Degrees\n",
    "\n",
    "The *in-degree* of a vertex in a digraph is the number of arrows coming into it, and similarly its *out-degree* is the number of arrows out of it. More precisely,\n",
    "\n",
    "If $G$ is a *digraph* and $v \\in V(G)$, then \n",
    "    \n",
    "  * $indeg(v) ::= \\big\\vert e \\in \\{E(G)\\, \\vert\\, head(e) = v \\}\\big\\vert$\n",
    "  * $outdeg(v) ::= \\big\\vert e \\in \\{E(G)\\, \\vert\\, tail(e) = v \\}\\big\\vert$\n",
    "\n",
    "\n",
    "##### References:\n",
    "The definitions above and the illustrations are taken from the book:\n",
    "*Mathematics for Computer Science*, Eric Lehman, F. Tom Leighton, Albert R. Meyer\n",
    "https://courses.csail.mit.edu/6.042/spring17/mcs.pdf"
   ]
  },
  {
   "cell_type": "markdown",
   "metadata": {},
   "source": [
    "# Name Generator\n",
    "\n",
    "Lets generate a directed graph -a social network-, which expresses endorsements between various people similar as in *LinkedIn*. The nodes of our digraph will be persons and the edges will represent endorsments. \n",
    "\n",
    "\n",
    "For the nodes, we will generate a set of \"random\" people. That is, we generate names as given in the USA randomly. A list of US American names can be received here:\n",
    "http://www.census.gov/topics/population/genealogy/data/1990_census/1990_census_namefiles.html\n",
    "\n",
    "\n",
    "In the following we download the files and generate three lists, one for female names, one for male names, and one for surnames."
   ]
  },
  {
   "cell_type": "code",
   "execution_count": 1,
   "metadata": {},
   "outputs": [
    {
     "name": "stdout",
     "output_type": "stream",
     "text": [
      "Downloading file to ./last_names.txt\n",
      "Downloading file to ./female_names.txt\n",
      "Downloading file to ./male_names.txt\n",
      "88799 4275 1219\n"
     ]
    }
   ],
   "source": [
    "import webget\n",
    "import random\n",
    "\n",
    "\n",
    "surnames_txt = 'http://www2.census.gov/topics/genealogy/1990surnames/dist.all.last'\n",
    "female_names_txt = 'http://www2.census.gov/topics/genealogy/1990surnames/dist.female.first'\n",
    "male_names_txt = 'http://www2.census.gov/topics/genealogy/1990surnames/dist.male.first'\n",
    "\n",
    "webget.download(surnames_txt, to='./last_names.txt')\n",
    "webget.download(female_names_txt, to='./female_names.txt')\n",
    "webget.download(male_names_txt, to='./male_names.txt')\n",
    "\n",
    "\n",
    "def get_names_from(file):\n",
    "    names = []\n",
    "    with open(file) as f:\n",
    "        for line in f:\n",
    "            name = line.split(' ')[0].title()\n",
    "            names.append(name)\n",
    "            \n",
    "    return names\n",
    "\n",
    "names = get_names_from('./last_names.txt')\n",
    "female_names = get_names_from('./female_names.txt')\n",
    "male_names = get_names_from('./male_names.txt')\n",
    "\n",
    "print(len(names), len(female_names), len(male_names))"
   ]
  },
  {
   "cell_type": "code",
   "execution_count": 2,
   "metadata": {},
   "outputs": [
    {
     "name": "stdout",
     "output_type": "stream",
     "text": [
      "-rw-r--r--  1 thomasthimothee  staff  3107965 Mar  7 15:31 last_names.txt\n",
      "-rw-r--r--  1 thomasthimothee  staff   149625 Mar  7 15:31 female_names.txt\n",
      "-rw-r--r--  1 thomasthimothee  staff    42665 Mar  7 15:31 male_names.txt\n"
     ]
    }
   ],
   "source": [
    "%%bash\n",
    "ls -ltr *names.txt"
   ]
  },
  {
   "cell_type": "code",
   "execution_count": null,
   "metadata": {
    "collapsed": true
   },
   "outputs": [],
   "source": []
  },
  {
   "cell_type": "markdown",
   "metadata": {},
   "source": [
    "We decide to let names be a two-element tuple consisting of a name and a surname."
   ]
  },
  {
   "cell_type": "code",
   "execution_count": 2,
   "metadata": {},
   "outputs": [
    {
     "data": {
      "text/plain": [
       "[('Dusty', 'Hasberry'),\n",
       " ('Isreal', 'Instasi'),\n",
       " ('Mark', 'Vanelderen'),\n",
       " ('Josiah', 'Sabastian'),\n",
       " ('Dewitt', 'Galavis'),\n",
       " ('Jaime', 'Cirilo'),\n",
       " ('Shirley', 'Keyworth'),\n",
       " ('Otto', 'Bagshaw'),\n",
       " ('Gayle', 'Ardon'),\n",
       " ('Lupe', 'Kaczka')]"
      ]
     },
     "execution_count": 2,
     "metadata": {},
     "output_type": "execute_result"
    }
   ],
   "source": [
    "def random_combination(list_a, list_b):\n",
    "    a = random.choice(list_a)\n",
    "    b = random.choice(list_b)\n",
    "    \n",
    "    return (a, b)\n",
    "\n",
    "\n",
    "def generate_random_names(amount=1, gender='female'):\n",
    "    pre_names = (female_names, male_names)\n",
    "    \n",
    "    if gender == 'female':\n",
    "        pre_names = pre_names[0]\n",
    "    elif gender == 'male':\n",
    "        pre_names = pre_names[1]\n",
    "    elif gender == 'random':\n",
    "        pre_names = random.choice(pre_names)\n",
    "\n",
    "    random_names = []\n",
    "    for idx in range(0, amount):    \n",
    "        random_name = random_combination(pre_names, names)\n",
    "        random_names.append(random_name)\n",
    "        \n",
    "    return random_names\n",
    "    \n",
    "generate_random_names(amount=10, gender='random')"
   ]
  },
  {
   "cell_type": "markdown",
   "metadata": {},
   "source": [
    "# Generating Nodes\n",
    "\n",
    "Now, that we have our name generator in place we are good to start generating our *endorsment graph*.\n",
    "\n",
    "For our example graph, we decide that it contains 100 persons, i.e., 100 nodes. Half of the nodes represents women and the other half represents men."
   ]
  },
  {
   "cell_type": "code",
   "execution_count": 5,
   "metadata": {},
   "outputs": [
    {
     "name": "stdout",
     "output_type": "stream",
     "text": [
      "100\n",
      "[('Celesta', 'Vergamini'), ('Myrle', 'Amburgey'), ('Chantel', 'Scalese'), ('Bernita', 'Politis'), ('Roxane', 'Hannibal'), ('Lashunda', 'Gilly'), ('Leonila', 'Pinneo'), ('Jeanice', 'Sagehorn'), ('Hassie', 'Carrig'), ('Lizbeth', 'Marcott'), ('Rebekah', 'Bookard'), ('Mercy', 'Frieson'), ('Taryn', 'Salon'), ('Dodie', 'Beaumonte'), ('Deonna', 'Scholz'), ('Tamesha', 'Cogill'), ('Tawny', 'Toalson'), ('Pandora', 'Sero'), ('Tenesha', 'Kaczorowski'), ('Azalee', 'Poncedeleon')]\n"
     ]
    }
   ],
   "source": [
    "total_no_nodes = 100\n",
    "no_nodes_per_sex = total_no_nodes // 2\n",
    "\n",
    "female_names_list = generate_random_names(amount=no_nodes_per_sex, gender='female')\n",
    "male_names_list = generate_random_names(amount=no_nodes_per_sex, gender='male')\n",
    "\n",
    "all_names_list = female_names_list + male_names_list\n",
    "person_list = all_names_list\n",
    "\n",
    "print(len(all_names_list))\n",
    "print(all_names_list[:20])"
   ]
  },
  {
   "cell_type": "markdown",
   "metadata": {},
   "source": [
    "# Generating Edges\n",
    "\n",
    "endorsements randomly\n",
    "\n",
    "\n",
    "Additionally, we say that it is not possible for a person to endorse herself."
   ]
  },
  {
   "cell_type": "code",
   "execution_count": 6,
   "metadata": {},
   "outputs": [
    {
     "name": "stdout",
     "output_type": "stream",
     "text": [
      "Solving environment: ...working... done\n",
      "\n",
      "# All requested packages already installed.\n",
      "\n"
     ]
    },
    {
     "name": "stderr",
     "output_type": "stream",
     "text": [
      "\n",
      "\n",
      "==> WARNING: A newer version of conda exists. <==\n",
      "  current version: 4.4.10\n",
      "  latest version: 4.4.11\n",
      "\n",
      "Please update conda by running\n",
      "\n",
      "    $ conda update -n base conda\n",
      "\n",
      "\n"
     ]
    }
   ],
   "source": [
    "%%bash\n",
    "conda install -y tqdm"
   ]
  },
  {
   "cell_type": "code",
   "execution_count": 7,
   "metadata": {},
   "outputs": [
    {
     "name": "stderr",
     "output_type": "stream",
     "text": [
      "100it [00:00, 6491.32it/s]"
     ]
    },
    {
     "name": "stdout",
     "output_type": "stream",
     "text": [
      "[(0, 30), (0, 26), (1, 12), (1, 59), (1, 94), (1, 25), (1, 17), (1, 92), (1, 16), (1, 61), (1, 97), (1, 95), (1, 41), (1, 65), (1, 43), (1, 15), (1, 18), (1, 89), (1, 60), (1, 7), (1, 58), (2, 45), (2, 25), (2, 50), (2, 59), (2, 40), (3, 60), (4, 43), (4, 7), (4, 15)]\n",
      "[('Celesta', 'Vergamini'), ('Myrle', 'Amburgey'), ('Chantel', 'Scalese'), ('Bernita', 'Politis'), ('Roxane', 'Hannibal'), ('Lashunda', 'Gilly'), ('Leonila', 'Pinneo'), ('Jeanice', 'Sagehorn'), ('Hassie', 'Carrig'), ('Lizbeth', 'Marcott'), ('Rebekah', 'Bookard'), ('Mercy', 'Frieson'), ('Taryn', 'Salon'), ('Dodie', 'Beaumonte'), ('Deonna', 'Scholz'), ('Tamesha', 'Cogill'), ('Tawny', 'Toalson'), ('Pandora', 'Sero'), ('Tenesha', 'Kaczorowski'), ('Azalee', 'Poncedeleon'), ('Toya', 'Rumberger'), ('Cecelia', 'Samide'), ('Madeline', 'Greider'), ('Sophia', 'Coury'), ('Amelia', 'Ching'), ('Belia', 'Vititow'), ('Therese', 'Ota'), ('Janean', 'Mikolajczak'), ('Kaye', 'Dennert'), ('Nevada', 'Kreft'), ('Collette', 'Pefanis'), ('Kiana', 'Walseth'), ('Cecile', 'Wiggens'), ('Dell', 'Excell'), ('Tameika', 'Prusha'), ('Kena', 'Tones'), ('Dorie', 'Magley'), ('Kandi', 'Haver'), ('Janetta', 'Shrum'), ('Teresa', 'Valdovino'), ('Shenita', 'Hein'), ('Dolly', 'Kampfer'), ('Breanna', 'Etling'), ('Toshiko', 'Liapis'), ('Una', 'Reif'), ('Mandi', 'Bebo'), ('Marg', 'Pettit'), ('Celesta', 'Crumpler'), ('Claris', 'Karmel'), ('Verdie', 'Ravo'), ('Nestor', 'Britt'), ('Jerrold', 'Tetreault'), ('Dorsey', 'Faggins'), ('Neal', 'Argenti'), ('Monroe', 'Daniell'), ('Moises', 'Rimando'), ('Antoine', 'Misemer'), ('Dale', 'Rawlings'), ('Kenneth', 'Lacasse'), ('Travis', 'Byrn'), ('Ashley', 'Iller'), ('Gordon', 'Singo'), ('Roger', 'Fallen'), ('Julian', 'Marzella'), ('Ron', 'Vasbinder'), ('Aaron', 'Pikus'), ('Guillermo', 'Geeting'), ('Weldon', 'Deranick'), ('Enrique', 'Camelin'), ('Jared', 'Favela'), ('Will', 'Chahal'), ('Charles', 'Mcculley'), ('Cary', 'Riolo'), ('Cornelius', 'Aggers'), ('Ricardo', 'Krenek'), ('Luigi', 'Dewing'), ('Jonah', 'Balleza'), ('Clayton', 'Barkalow'), ('Conrad', 'Moody'), ('Daniel', 'Brandler'), ('Ramon', 'Mander'), ('Charles', 'Witthoft'), ('Theodore', 'Smithhart'), ('Dario', 'Naik'), ('Joseph', 'Zavitz'), ('Rudolph', 'Coody'), ('Moises', 'Mazurk'), ('Lamont', 'Gotto'), ('Gabriel', 'Hare'), ('Jarrod', 'Bartolotto'), ('Teodoro', 'Revier'), ('Bernard', 'Remson'), ('Reginald', 'Lightbody'), ('Lucien', 'Kinzie'), ('Maynard', 'Steltenpohl'), ('Leopoldo', 'Schnobrich'), ('Jerald', 'Tepley'), ('Gaylord', 'Shibuya'), ('Saul', 'Ansloan'), ('Mitchell', 'Eggink')]\n"
     ]
    },
    {
     "name": "stderr",
     "output_type": "stream",
     "text": [
      "\n"
     ]
    }
   ],
   "source": [
    "from tqdm import tqdm\n",
    "from random import randint\n",
    "from numpy.random import choice\n",
    "\n",
    "\n",
    "def get_no_endorsments():\n",
    "    relation_classes = {\n",
    "        0: (0, 0),\n",
    "        1: (1, 4),\n",
    "        2: (5, 10),\n",
    "        3: (11, 20),\n",
    "        4: (21, 50),\n",
    "        5: (51, 100)\n",
    "    }\n",
    "    p_distribution = [0.05, 0.36, 0.45, 0.1, 0.035, 0.005]\n",
    "\n",
    "    no_relation_class = choice(list(relation_classes.keys()), \n",
    "                               p=p_distribution)\n",
    "    no_endorsments = randint(relation_classes[no_relation_class][0], \n",
    "                             relation_classes[no_relation_class][1])\n",
    "    return no_endorsments\n",
    "\n",
    "\n",
    "def create_endorsements(node_list):\n",
    "    \"\"\"Creates a list of graph edges\n",
    "    like [(1,10), (50,4), (99,20000), ...]\"\"\"\n",
    "    endorsements = []\n",
    "    idx_list = range(len(node_list))\n",
    "\n",
    "    for idx, name_pair in tqdm(enumerate(node_list)):\n",
    "        # get how many people this person (name_pair) endorses\n",
    "        no_endorsments = get_no_endorsments()\n",
    "        if no_endorsments > 0:\n",
    "            # get a list of potential endorsements\n",
    "            potential_endorsment_idxs = random.sample(idx_list, no_endorsments)\n",
    "            if idx in potential_endorsment_idxs:\n",
    "                # Removing myself in case I am in the list\n",
    "                # cannot endorse myself\n",
    "                idx_me_in_endorsements = potential_endorsment_idxs.index(idx)\n",
    "                del potential_endorsment_idxs[idx_me_in_endorsements]\n",
    "    \n",
    "            endorsements += list(zip([idx for _ in range(len(potential_endorsment_idxs))], \n",
    "                                     potential_endorsment_idxs))\n",
    "    return endorsements\n",
    "\n",
    "endorsements = create_endorsements(person_list)\n",
    "\n",
    "print(endorsements[:30])\n",
    "print(person_list)"
   ]
  },
  {
   "cell_type": "code",
   "execution_count": 8,
   "metadata": {},
   "outputs": [
    {
     "name": "stdout",
     "output_type": "stream",
     "text": [
      "Solving environment: ...working... done\n",
      "\n",
      "# All requested packages already installed.\n",
      "\n",
      "Collecting pygraphviz\n",
      "  Using cached pygraphviz-1.3.1.zip\n",
      "Building wheels for collected packages: pygraphviz\n",
      "  Running setup.py bdist_wheel for pygraphviz: started\n",
      "  Running setup.py bdist_wheel for pygraphviz: finished with status 'error'\n",
      "  Complete output from command /Users/thomasthimothee/anaconda3/bin/python -u -c \"import setuptools, tokenize;__file__='/private/var/folders/z1/txs736td4rqclbn48yv32vjh0000gp/T/pip-build-7zqthkt0/pygraphviz/setup.py';f=getattr(tokenize, 'open', open)(__file__);code=f.read().replace('\\r\\n', '\\n');f.close();exec(compile(code, __file__, 'exec'))\" bdist_wheel -d /var/folders/z1/txs736td4rqclbn48yv32vjh0000gp/T/tmpvirybeospip-wheel- --python-tag cp36:\n",
      "  running bdist_wheel\n",
      "  running build\n",
      "  running build_py\n",
      "  creating build\n",
      "  creating build/lib.macosx-10.7-x86_64-3.6\n",
      "  creating build/lib.macosx-10.7-x86_64-3.6/pygraphviz\n",
      "  copying pygraphviz/__init__.py -> build/lib.macosx-10.7-x86_64-3.6/pygraphviz\n",
      "  copying pygraphviz/agraph.py -> build/lib.macosx-10.7-x86_64-3.6/pygraphviz\n",
      "  copying pygraphviz/graphviz.py -> build/lib.macosx-10.7-x86_64-3.6/pygraphviz\n",
      "  copying pygraphviz/release.py -> build/lib.macosx-10.7-x86_64-3.6/pygraphviz\n",
      "  copying pygraphviz/version.py -> build/lib.macosx-10.7-x86_64-3.6/pygraphviz\n",
      "  creating build/lib.macosx-10.7-x86_64-3.6/pygraphviz/tests\n",
      "  copying pygraphviz/tests/__init__.py -> build/lib.macosx-10.7-x86_64-3.6/pygraphviz/tests\n",
      "  copying pygraphviz/tests/test.py -> build/lib.macosx-10.7-x86_64-3.6/pygraphviz/tests\n",
      "  copying pygraphviz/tests/test_attribute_defaults.py -> build/lib.macosx-10.7-x86_64-3.6/pygraphviz/tests\n",
      "  copying pygraphviz/tests/test_attributes.py -> build/lib.macosx-10.7-x86_64-3.6/pygraphviz/tests\n",
      "  copying pygraphviz/tests/test_clear.py -> build/lib.macosx-10.7-x86_64-3.6/pygraphviz/tests\n",
      "  copying pygraphviz/tests/test_drawing.py -> build/lib.macosx-10.7-x86_64-3.6/pygraphviz/tests\n",
      "  copying pygraphviz/tests/test_edge_attributes.py -> build/lib.macosx-10.7-x86_64-3.6/pygraphviz/tests\n",
      "  copying pygraphviz/tests/test_graph.py -> build/lib.macosx-10.7-x86_64-3.6/pygraphviz/tests\n",
      "  copying pygraphviz/tests/test_html.py -> build/lib.macosx-10.7-x86_64-3.6/pygraphviz/tests\n",
      "  copying pygraphviz/tests/test_layout.py -> build/lib.macosx-10.7-x86_64-3.6/pygraphviz/tests\n",
      "  copying pygraphviz/tests/test_node_attributes.py -> build/lib.macosx-10.7-x86_64-3.6/pygraphviz/tests\n",
      "  copying pygraphviz/tests/test_readwrite.py -> build/lib.macosx-10.7-x86_64-3.6/pygraphviz/tests\n",
      "  copying pygraphviz/tests/test_string.py -> build/lib.macosx-10.7-x86_64-3.6/pygraphviz/tests\n",
      "  copying pygraphviz/tests/test_subgraph.py -> build/lib.macosx-10.7-x86_64-3.6/pygraphviz/tests\n",
      "  copying pygraphviz/tests/test_unicode.py -> build/lib.macosx-10.7-x86_64-3.6/pygraphviz/tests\n",
      "  running egg_info\n",
      "  writing pygraphviz.egg-info/PKG-INFO\n",
      "  writing dependency_links to pygraphviz.egg-info/dependency_links.txt\n",
      "  writing top-level names to pygraphviz.egg-info/top_level.txt\n",
      "  reading manifest file 'pygraphviz.egg-info/SOURCES.txt'\n",
      "  reading manifest template 'MANIFEST.in'\n",
      "  warning: no previously-included files matching '*~' found anywhere in distribution\n",
      "  warning: no previously-included files matching '*.pyc' found anywhere in distribution\n",
      "  warning: no previously-included files matching '.svn' found anywhere in distribution\n",
      "  no previously-included directories found matching 'doc/build'\n",
      "  writing manifest file 'pygraphviz.egg-info/SOURCES.txt'\n",
      "  copying pygraphviz/graphviz.i -> build/lib.macosx-10.7-x86_64-3.6/pygraphviz\n",
      "  copying pygraphviz/graphviz_wrap.c -> build/lib.macosx-10.7-x86_64-3.6/pygraphviz\n",
      "  running build_ext\n",
      "  building 'pygraphviz._graphviz' extension\n",
      "  creating build/temp.macosx-10.7-x86_64-3.6\n",
      "  creating build/temp.macosx-10.7-x86_64-3.6/pygraphviz\n",
      "  gcc -Wno-unused-result -Wsign-compare -Wunreachable-code -DNDEBUG -g -fwrapv -O3 -Wall -Wstrict-prototypes -I/Users/thomasthimothee/anaconda3/include -arch x86_64 -I/Users/thomasthimothee/anaconda3/include -arch x86_64 -I/Users/thomasthimothee/anaconda3/include/python3.6m -c pygraphviz/graphviz_wrap.c -o build/temp.macosx-10.7-x86_64-3.6/pygraphviz/graphviz_wrap.o\n",
      "  pygraphviz/graphviz_wrap.c:2954:10: fatal error: 'graphviz/cgraph.h' file not found\n",
      "  #include \"graphviz/cgraph.h\"\n",
      "           ^\n",
      "  1 error generated.\n",
      "  error: command 'gcc' failed with exit status 1\n",
      "  \n",
      "  ----------------------------------------\n",
      "  Running setup.py clean for pygraphviz\n",
      "Failed to build pygraphviz\n",
      "Installing collected packages: pygraphviz\n",
      "  Running setup.py install for pygraphviz: started\n",
      "    Running setup.py install for pygraphviz: finished with status 'error'\n",
      "    Complete output from command /Users/thomasthimothee/anaconda3/bin/python -u -c \"import setuptools, tokenize;__file__='/private/var/folders/z1/txs736td4rqclbn48yv32vjh0000gp/T/pip-build-7zqthkt0/pygraphviz/setup.py';f=getattr(tokenize, 'open', open)(__file__);code=f.read().replace('\\r\\n', '\\n');f.close();exec(compile(code, __file__, 'exec'))\" install --record /var/folders/z1/txs736td4rqclbn48yv32vjh0000gp/T/pip-gt7i2irf-record/install-record.txt --single-version-externally-managed --compile:\n",
      "    running install\n",
      "    Trying pkg-config\n",
      "    Failed to find pkg-config\n",
      "    Trying dotneato-config\n",
      "    Failed to find dotneato-config\n",
      "    Failed to find dotneato-config\n",
      "    \n",
      "    Your Graphviz installation could not be found.\n",
      "    \n",
      "            1) You don't have Graphviz installed:\n",
      "               Install Graphviz (http://graphviz.org)\n",
      "    \n",
      "            2) Your Graphviz package might incomplete.\n",
      "               Install the binary development subpackage (e.g. libgraphviz-dev or similar.)\n",
      "    \n",
      "            3) You are using Windows\n",
      "               There are no PyGraphviz binary packages for Windows but you might be\n",
      "               able to build it from this source.  See\n",
      "               http://networkx.lanl.gov/pygraphviz/reference/faq.html\n",
      "    \n",
      "            If you think your installation is correct you will need to manually\n",
      "            change the include_dirs and library_dirs variables in setup.py to\n",
      "            point to the correct locations of your graphviz installation.\n",
      "    \n",
      "            The current setting of library_dirs and include_dirs is:\n",
      "    library_dirs=None\n",
      "    include_dirs=None\n",
      "    \n",
      "    error: Error locating graphviz.\n",
      "    \n",
      "    ----------------------------------------\n"
     ]
    },
    {
     "name": "stderr",
     "output_type": "stream",
     "text": [
      "\n",
      "\n",
      "==> WARNING: A newer version of conda exists. <==\n",
      "  current version: 4.4.10\n",
      "  latest version: 4.4.11\n",
      "\n",
      "Please update conda by running\n",
      "\n",
      "    $ conda update -n base conda\n",
      "\n",
      "\n",
      "  Failed building wheel for pygraphviz\n",
      "Command \"/Users/thomasthimothee/anaconda3/bin/python -u -c \"import setuptools, tokenize;__file__='/private/var/folders/z1/txs736td4rqclbn48yv32vjh0000gp/T/pip-build-7zqthkt0/pygraphviz/setup.py';f=getattr(tokenize, 'open', open)(__file__);code=f.read().replace('\\r\\n', '\\n');f.close();exec(compile(code, __file__, 'exec'))\" install --record /var/folders/z1/txs736td4rqclbn48yv32vjh0000gp/T/pip-gt7i2irf-record/install-record.txt --single-version-externally-managed --compile\" failed with error code 1 in /private/var/folders/z1/txs736td4rqclbn48yv32vjh0000gp/T/pip-build-7zqthkt0/pygraphviz/\n"
     ]
    }
   ],
   "source": [
    "%%bash\n",
    "conda install -y networkx=1.11\n",
    "pip install pygraphviz"
   ]
  },
  {
   "cell_type": "code",
   "execution_count": 9,
   "metadata": {
    "collapsed": true
   },
   "outputs": [],
   "source": [
    "%matplotlib inline\n",
    "import warnings\n",
    "warnings.filterwarnings('ignore')"
   ]
  },
  {
   "cell_type": "code",
   "execution_count": 10,
   "metadata": {},
   "outputs": [
    {
     "name": "stdout",
     "output_type": "stream",
     "text": [
      "100\n"
     ]
    },
    {
     "ename": "ImportError",
     "evalue": "('requires pygraphviz ', 'http://pygraphviz.github.io/')",
     "output_type": "error",
     "traceback": [
      "\u001b[0;31m---------------------------------------------------------------------------\u001b[0m",
      "\u001b[0;31mModuleNotFoundError\u001b[0m                       Traceback (most recent call last)",
      "\u001b[0;32m~/anaconda3/lib/python3.6/site-packages/networkx/drawing/nx_agraph.py\u001b[0m in \u001b[0;36mpygraphviz_layout\u001b[0;34m(G, prog, root, args)\u001b[0m\n\u001b[1;32m    254\u001b[0m     \u001b[0;32mtry\u001b[0m\u001b[0;34m:\u001b[0m\u001b[0;34m\u001b[0m\u001b[0m\n\u001b[0;32m--> 255\u001b[0;31m         \u001b[0;32mimport\u001b[0m \u001b[0mpygraphviz\u001b[0m\u001b[0;34m\u001b[0m\u001b[0m\n\u001b[0m\u001b[1;32m    256\u001b[0m     \u001b[0;32mexcept\u001b[0m \u001b[0mImportError\u001b[0m\u001b[0;34m:\u001b[0m\u001b[0;34m\u001b[0m\u001b[0m\n",
      "\u001b[0;31mModuleNotFoundError\u001b[0m: No module named 'pygraphviz'",
      "\nDuring handling of the above exception, another exception occurred:\n",
      "\u001b[0;31mImportError\u001b[0m                               Traceback (most recent call last)",
      "\u001b[0;32m<ipython-input-10-3bf41fd5c97f>\u001b[0m in \u001b[0;36m<module>\u001b[0;34m()\u001b[0m\n\u001b[1;32m     26\u001b[0m \u001b[0;34m\u001b[0m\u001b[0m\n\u001b[1;32m     27\u001b[0m \u001b[0mgraph\u001b[0m \u001b[0;34m=\u001b[0m \u001b[0mcreate_graph\u001b[0m\u001b[0;34m(\u001b[0m\u001b[0;34m)\u001b[0m\u001b[0;34m\u001b[0m\u001b[0m\n\u001b[0;32m---> 28\u001b[0;31m \u001b[0mdraw_graph\u001b[0m\u001b[0;34m(\u001b[0m\u001b[0mgraph\u001b[0m\u001b[0;34m)\u001b[0m\u001b[0;34m\u001b[0m\u001b[0m\n\u001b[0m\u001b[1;32m     29\u001b[0m \u001b[0;34m\u001b[0m\u001b[0m\n\u001b[1;32m     30\u001b[0m \u001b[0;31m#nx.write_gml(graph, './social_network.gml')\u001b[0m\u001b[0;34m\u001b[0m\u001b[0;34m\u001b[0m\u001b[0m\n",
      "\u001b[0;32m<ipython-input-10-3bf41fd5c97f>\u001b[0m in \u001b[0;36mdraw_graph\u001b[0;34m(graph)\u001b[0m\n\u001b[1;32m     21\u001b[0m \u001b[0;34m\u001b[0m\u001b[0m\n\u001b[1;32m     22\u001b[0m \u001b[0;32mdef\u001b[0m \u001b[0mdraw_graph\u001b[0m\u001b[0;34m(\u001b[0m\u001b[0mgraph\u001b[0m\u001b[0;34m)\u001b[0m\u001b[0;34m:\u001b[0m\u001b[0;34m\u001b[0m\u001b[0m\n\u001b[0;32m---> 23\u001b[0;31m     nx.draw(graph, pos=graphviz_layout(graph), \n\u001b[0m\u001b[1;32m     24\u001b[0m             \u001b[0mnode_size\u001b[0m\u001b[0;34m=\u001b[0m\u001b[0;36m30\u001b[0m\u001b[0;34m,\u001b[0m \u001b[0mwidth\u001b[0m\u001b[0;34m=\u001b[0m\u001b[0;36m.05\u001b[0m\u001b[0;34m,\u001b[0m \u001b[0mcmap\u001b[0m\u001b[0;34m=\u001b[0m\u001b[0mplt\u001b[0m\u001b[0;34m.\u001b[0m\u001b[0mcm\u001b[0m\u001b[0;34m.\u001b[0m\u001b[0mBlues\u001b[0m\u001b[0;34m,\u001b[0m\u001b[0;34m\u001b[0m\u001b[0m\n\u001b[1;32m     25\u001b[0m             with_labels=True, node_color=range(len(graph)))\n",
      "\u001b[0;32m~/anaconda3/lib/python3.6/site-packages/networkx/drawing/nx_agraph.py\u001b[0m in \u001b[0;36mgraphviz_layout\u001b[0;34m(G, prog, root, args)\u001b[0m\n\u001b[1;32m    226\u001b[0m \u001b[0;34m\u001b[0m\u001b[0m\n\u001b[1;32m    227\u001b[0m     \"\"\"\n\u001b[0;32m--> 228\u001b[0;31m     \u001b[0;32mreturn\u001b[0m \u001b[0mpygraphviz_layout\u001b[0m\u001b[0;34m(\u001b[0m\u001b[0mG\u001b[0m\u001b[0;34m,\u001b[0m\u001b[0mprog\u001b[0m\u001b[0;34m=\u001b[0m\u001b[0mprog\u001b[0m\u001b[0;34m,\u001b[0m\u001b[0mroot\u001b[0m\u001b[0;34m=\u001b[0m\u001b[0mroot\u001b[0m\u001b[0;34m,\u001b[0m\u001b[0margs\u001b[0m\u001b[0;34m=\u001b[0m\u001b[0margs\u001b[0m\u001b[0;34m)\u001b[0m\u001b[0;34m\u001b[0m\u001b[0m\n\u001b[0m\u001b[1;32m    229\u001b[0m \u001b[0;34m\u001b[0m\u001b[0m\n\u001b[1;32m    230\u001b[0m \u001b[0;32mdef\u001b[0m \u001b[0mpygraphviz_layout\u001b[0m\u001b[0;34m(\u001b[0m\u001b[0mG\u001b[0m\u001b[0;34m,\u001b[0m\u001b[0mprog\u001b[0m\u001b[0;34m=\u001b[0m\u001b[0;34m'neato'\u001b[0m\u001b[0;34m,\u001b[0m\u001b[0mroot\u001b[0m\u001b[0;34m=\u001b[0m\u001b[0;32mNone\u001b[0m\u001b[0;34m,\u001b[0m \u001b[0margs\u001b[0m\u001b[0;34m=\u001b[0m\u001b[0;34m''\u001b[0m\u001b[0;34m)\u001b[0m\u001b[0;34m:\u001b[0m\u001b[0;34m\u001b[0m\u001b[0m\n",
      "\u001b[0;32m~/anaconda3/lib/python3.6/site-packages/networkx/drawing/nx_agraph.py\u001b[0m in \u001b[0;36mpygraphviz_layout\u001b[0;34m(G, prog, root, args)\u001b[0m\n\u001b[1;32m    256\u001b[0m     \u001b[0;32mexcept\u001b[0m \u001b[0mImportError\u001b[0m\u001b[0;34m:\u001b[0m\u001b[0;34m\u001b[0m\u001b[0m\n\u001b[1;32m    257\u001b[0m         raise ImportError('requires pygraphviz ',\n\u001b[0;32m--> 258\u001b[0;31m                           'http://pygraphviz.github.io/')\n\u001b[0m\u001b[1;32m    259\u001b[0m     \u001b[0;32mif\u001b[0m \u001b[0mroot\u001b[0m \u001b[0;32mis\u001b[0m \u001b[0;32mnot\u001b[0m \u001b[0;32mNone\u001b[0m\u001b[0;34m:\u001b[0m\u001b[0;34m\u001b[0m\u001b[0m\n\u001b[1;32m    260\u001b[0m         \u001b[0margs\u001b[0m\u001b[0;34m+=\u001b[0m\u001b[0;34m\"-Groot=%s\"\u001b[0m\u001b[0;34m%\u001b[0m\u001b[0mroot\u001b[0m\u001b[0;34m\u001b[0m\u001b[0m\n",
      "\u001b[0;31mImportError\u001b[0m: ('requires pygraphviz ', 'http://pygraphviz.github.io/')"
     ]
    }
   ],
   "source": [
    "import networkx as nx\n",
    "import matplotlib.pyplot as plt\n",
    "from networkx.drawing.nx_agraph import graphviz_layout, write_dot\n",
    "\n",
    "\n",
    "def create_graph():\n",
    "    graph = nx.DiGraph()\n",
    "    graph.clear()\n",
    "\n",
    "    # add node by node, needed to add attributes...\n",
    "    print(len(all_names_list))\n",
    "\n",
    "    for idx, name_pair in enumerate(all_names_list):\n",
    "        graph.add_node(idx, name=' '.join(name_pair))\n",
    "    \n",
    "    # graph.add_nodes_from(all_names_list)\n",
    "    graph.add_edges_from(endorsements)\n",
    "\n",
    "    return graph\n",
    "\n",
    "\n",
    "def draw_graph(graph):\n",
    "    nx.draw(graph, pos=graphviz_layout(graph), \n",
    "            node_size=30, width=.05, cmap=plt.cm.Blues, \n",
    "            with_labels=True, node_color=range(len(graph)))\n",
    "    \n",
    "graph = create_graph()\n",
    "draw_graph(graph)\n",
    "\n",
    "#nx.write_gml(graph, './social_network.gml')"
   ]
  },
  {
   "cell_type": "code",
   "execution_count": null,
   "metadata": {
    "collapsed": true
   },
   "outputs": [],
   "source": [
    "print(graph.node[10]['name'])\n",
    "print(graph.out_degree(10))\n",
    "print(graph.out_edges(10))\n",
    "print(graph.node[graph.out_edges(10)[0][1]])\n",
    "print(graph.in_edges(10))"
   ]
  },
  {
   "cell_type": "code",
   "execution_count": null,
   "metadata": {},
   "outputs": [],
   "source": [
    "print(graph.node)\n",
    "print(graph.number_of_nodes())"
   ]
  },
  {
   "cell_type": "markdown",
   "metadata": {},
   "source": [
    "## Who is the most interesting person in out network?\n",
    "\n",
    "Likely, you are tempted to find the person in the graph, which has the highest in-degree. For example with code similar to the following."
   ]
  },
  {
   "cell_type": "code",
   "execution_count": 12,
   "metadata": {},
   "outputs": [
    {
     "name": "stdout",
     "output_type": "stream",
     "text": [
      "15\n",
      "Tamesha Cogill\n"
     ]
    }
   ],
   "source": [
    "import numpy as np\n",
    "\n",
    "\n",
    "in_deg_vec = np.array([graph.in_degree(n) for n in graph.nodes()])\n",
    "max_ind_deg = in_deg_vec.max()\n",
    "print(np.argmax(in_deg_vec))\n",
    "print(graph.node[np.argmax(in_deg_vec)]['name'])"
   ]
  },
  {
   "cell_type": "markdown",
   "metadata": {},
   "source": [
    "However, there is an issue with this solution. To make yourself the most interesting person you would just have to create a lot of profiles of people endorsing you. This issue can be overcome by applying the *PageRank* algorithm."
   ]
  },
  {
   "cell_type": "markdown",
   "metadata": {},
   "source": [
    "# PageRank Algorithm\n",
    "\n",
    "\n",
    "\n",
    "![from_book](images/pr_descr.png)\n",
    "\n",
    "##### References:\n",
    "The above description is from *Artificial Intelligence: A Modern Approach Third Edition* by Stuart J. Russell and Peter Norvig."
   ]
  },
  {
   "cell_type": "markdown",
   "metadata": {},
   "source": [
    "## Let's Implement PageRank Together!\n",
    "\n",
    "Perhaps it is best, when we start implementing a function that encodes the *PageRank* formula.\n",
    "\n",
    "\n",
    "$PR(p) = \\frac{1-d}{N} + d \\sum_{i}^{} \\frac{PR(in_{i})}{C(in_{i})}$"
   ]
  },
  {
   "cell_type": "code",
   "execution_count": 13,
   "metadata": {},
   "outputs": [
    {
     "name": "stdout",
     "output_type": "stream",
     "text": [
      "[ 1.  1.  1.  1.  1.  1.  1.  1.  1.  1.  1.  1.  1.  1.  1.  1.  1.  1.\n",
      "  1.  1.  1.  1.  1.  1.  1.  1.  1.  1.  1.  1.  1.  1.  1.  1.  1.  1.\n",
      "  1.  1.  1.  1.  1.  1.  1.  1.  1.  1.  1.  1.  1.  1.  1.  1.  1.  1.\n",
      "  1.  1.  1.  1.  1.  1.  1.  1.  1.  1.  1.  1.  1.  1.  1.  1.  1.  1.\n",
      "  1.  1.  1.  1.  1.  1.  1.  1.  1.  1.  1.  1.  1.  1.  1.  1.  1.  1.\n",
      "  1.  1.  1.  1.  1.  1.  1.  1.  1.  1.]\n"
     ]
    }
   ],
   "source": [
    "big_n = graph.number_of_nodes() # or len(graph.nodes())\n",
    "d = 0.85\n",
    "global_pr = [1 for node in graph.nodes()]\n",
    "global_pr = np.ones(graph.number_of_nodes())\n",
    "print(global_pr)\n",
    "\n",
    "\n",
    "def pr(node, graph):\n",
    "    _sum = 1\n",
    "    part_1 = (1 - 0.85) / graph.number_of_nodes()\n",
    "    \n",
    "    for _ in range(graph.in_edges(node)):\n",
    "        _sum += pr()\n",
    "\n",
    "    return part_1 + 1.85 * _sum\n",
    "\n",
    "\n",
    "\n"
   ]
  },
  {
   "cell_type": "code",
   "execution_count": 20,
   "metadata": {},
   "outputs": [
    {
     "name": "stdout",
     "output_type": "stream",
     "text": [
      "Carolin Ruppenthal\n"
     ]
    }
   ],
   "source": [
    "#print(graph.node[27]['name'])"
   ]
  },
  {
   "cell_type": "code",
   "execution_count": null,
   "metadata": {
    "collapsed": true
   },
   "outputs": [],
   "source": [
    "def page_rank(node):\n",
    "    damping = 0.85\n",
    "    big_n = graph.number_of_nodes()\n",
    "    pr_in = \n",
    "    \n",
    "    pr_p = (1 - damping) / n + damping * "
   ]
  },
  {
   "cell_type": "code",
   "execution_count": null,
   "metadata": {
    "collapsed": true
   },
   "outputs": [],
   "source": []
  },
  {
   "cell_type": "code",
   "execution_count": null,
   "metadata": {
    "collapsed": true
   },
   "outputs": [],
   "source": []
  },
  {
   "cell_type": "code",
   "execution_count": null,
   "metadata": {
    "collapsed": true
   },
   "outputs": [],
   "source": []
  }
 ],
 "metadata": {
  "kernelspec": {
   "display_name": "Python 3",
   "language": "python",
   "name": "python3"
  },
  "language_info": {
   "codemirror_mode": {
    "name": "ipython",
    "version": 3
   },
   "file_extension": ".py",
   "mimetype": "text/x-python",
   "name": "python",
   "nbconvert_exporter": "python",
   "pygments_lexer": "ipython3",
   "version": "3.6.3"
  }
 },
 "nbformat": 4,
 "nbformat_minor": 2
}
