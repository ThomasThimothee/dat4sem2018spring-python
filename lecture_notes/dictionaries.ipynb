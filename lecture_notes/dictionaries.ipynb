{
 "cells": [
  {
   "cell_type": "code",
   "execution_count": 1,
   "metadata": {},
   "outputs": [
    {
     "data": {
      "text/plain": [
       "{'hej': 5, 'b': 'c', 4: ['a', 9, None]}"
      ]
     },
     "execution_count": 1,
     "metadata": {},
     "output_type": "execute_result"
    }
   ],
   "source": [
    "{\"hej\": 5, \n",
    " \"b\": \"c\", \n",
    " 4: [\"a\",9,None] }"
   ]
  },
  {
   "cell_type": "code",
   "execution_count": 2,
   "metadata": {},
   "outputs": [
    {
     "data": {
      "text/plain": [
       "'https://static.pexels.com/photos/60597/dahlia-red-blossom-bloom-60597.jpeg'"
      ]
     },
     "execution_count": 2,
     "metadata": {},
     "output_type": "execute_result"
    }
   ],
   "source": [
    "image = {\"color\" : \"greyscale\",\n",
    "        \"size\": 28445,\n",
    "        \"type\": \"jpg\",\n",
    "        \"address\": \"https://static.pexels.com/photos/60597/dahlia-red-blossom-bloom-60597.jpeg\"}\n",
    "\n",
    "image[\"address\"] #get a value based on the key"
   ]
  },
  {
   "cell_type": "code",
   "execution_count": 9,
   "metadata": {
    "collapsed": true
   },
   "outputs": [],
   "source": [
    "image[510] = \"page in book\" #adding a new key value pair, as long as the key doesn't already exist\n",
    "image[510] = \"color\"  #will overwrite \"page in book\""
   ]
  },
  {
   "cell_type": "code",
   "execution_count": 5,
   "metadata": {},
   "outputs": [
    {
     "data": {
      "text/plain": [
       "{'color': 'greyscale',\n",
       " 'size': 28445,\n",
       " 'type': 'jpg',\n",
       " 'address': 'https://static.pexels.com/photos/60597/dahlia-red-blossom-bloom-60597.jpeg',\n",
       " 510: 'page in book'}"
      ]
     },
     "execution_count": 5,
     "metadata": {},
     "output_type": "execute_result"
    }
   ],
   "source": [
    "image"
   ]
  },
  {
   "cell_type": "code",
   "execution_count": 10,
   "metadata": {},
   "outputs": [],
   "source": [
    "del image[510] #delete element of list based on key"
   ]
  },
  {
   "cell_type": "code",
   "execution_count": 11,
   "metadata": {},
   "outputs": [
    {
     "data": {
      "text/plain": [
       "{'address': 'https://static.pexels.com/photos/60597/dahlia-red-blossom-bloom-60597.jpeg',\n",
       " 'color': 'greyscale',\n",
       " 'size': 28445,\n",
       " 'type': 'jpg'}"
      ]
     },
     "execution_count": 11,
     "metadata": {},
     "output_type": "execute_result"
    }
   ],
   "source": [
    "image"
   ]
  },
  {
   "cell_type": "code",
   "execution_count": 13,
   "metadata": {},
   "outputs": [
    {
     "name": "stdout",
     "output_type": "stream",
     "text": [
      "0 0\n",
      "1 1\n",
      "2 2\n",
      "3 3\n",
      "4 4\n"
     ]
    }
   ],
   "source": [
    "a = list(range(5))\n",
    "for idx, el in enumerate(a):\n",
    "    print(idx,el)"
   ]
  },
  {
   "cell_type": "code",
   "execution_count": 15,
   "metadata": {},
   "outputs": [
    {
     "name": "stdout",
     "output_type": "stream",
     "text": [
      "color greyscale\n",
      "size 28445\n",
      "type jpg\n",
      "address https://static.pexels.com/photos/60597/dahlia-red-blossom-bloom-60597.jpeg\n"
     ]
    }
   ],
   "source": [
    "for key, value in image.items():\n",
    "    print(key, value)"
   ]
  },
  {
   "cell_type": "code",
   "execution_count": 17,
   "metadata": {},
   "outputs": [
    {
     "name": "stdout",
     "output_type": "stream",
     "text": [
      "greyscale\n",
      "28445\n",
      "jpg\n",
      "https://static.pexels.com/photos/60597/dahlia-red-blossom-bloom-60597.jpeg\n"
     ]
    }
   ],
   "source": [
    "for value in image.values():\n",
    "    print(value)"
   ]
  },
  {
   "cell_type": "code",
   "execution_count": 23,
   "metadata": {},
   "outputs": [
    {
     "data": {
      "text/plain": [
       "False"
      ]
     },
     "execution_count": 23,
     "metadata": {},
     "output_type": "execute_result"
    }
   ],
   "source": [
    "\n",
    "\"Python\" in image.keys()"
   ]
  },
  {
   "cell_type": "code",
   "execution_count": 24,
   "metadata": {},
   "outputs": [
    {
     "data": {
      "text/plain": [
       "{'address': 'https://static.pexels.com/photos/60597/dahlia-red-blossom-bloom-60597.jpeg',\n",
       " 'color': 'greyscale',\n",
       " 'size': 28445,\n",
       " 'type': 'jpg'}"
      ]
     },
     "execution_count": 24,
     "metadata": {},
     "output_type": "execute_result"
    }
   ],
   "source": [
    "image"
   ]
  },
  {
   "cell_type": "code",
   "execution_count": 26,
   "metadata": {},
   "outputs": [
    {
     "data": {
      "text/plain": [
       "True"
      ]
     },
     "execution_count": 26,
     "metadata": {},
     "output_type": "execute_result"
    }
   ],
   "source": [
    "'color' in image #check for the keys only"
   ]
  },
  {
   "cell_type": "code",
   "execution_count": 28,
   "metadata": {},
   "outputs": [
    {
     "data": {
      "text/plain": [
       "True"
      ]
     },
     "execution_count": 28,
     "metadata": {},
     "output_type": "execute_result"
    }
   ],
   "source": [
    "'greyscale' in image.values()"
   ]
  },
  {
   "cell_type": "code",
   "execution_count": 29,
   "metadata": {},
   "outputs": [
    {
     "data": {
      "text/plain": [
       "False"
      ]
     },
     "execution_count": 29,
     "metadata": {},
     "output_type": "execute_result"
    }
   ],
   "source": [
    "'greyscale' in image"
   ]
  },
  {
   "cell_type": "code",
   "execution_count": 37,
   "metadata": {},
   "outputs": [
    {
     "data": {
      "text/plain": [
       "'too bad'"
      ]
     },
     "execution_count": 37,
     "metadata": {},
     "output_type": "execute_result"
    }
   ],
   "source": [
    "color_val = image.get(\"Python\",\"too bad\") # look for the value of key \"Python\" if doesn't find return \"too bad\"\n",
    "color_val"
   ]
  },
  {
   "cell_type": "code",
   "execution_count": 42,
   "metadata": {},
   "outputs": [
    {
     "data": {
      "text/plain": [
       "{'\\n': 4,\n",
       " ' ': 61,\n",
       " ',': 6,\n",
       " '-': 1,\n",
       " '.': 3,\n",
       " '6': 1,\n",
       " 'C': 2,\n",
       " 'E': 1,\n",
       " 'F': 2,\n",
       " 'H': 1,\n",
       " 'L': 3,\n",
       " 'M': 1,\n",
       " 'S': 1,\n",
       " 'T': 1,\n",
       " 'U': 1,\n",
       " 'X': 1,\n",
       " 'a': 30,\n",
       " 'b': 1,\n",
       " 'c': 11,\n",
       " 'd': 17,\n",
       " 'e': 43,\n",
       " 'f': 4,\n",
       " 'g': 2,\n",
       " 'h': 2,\n",
       " 'i': 21,\n",
       " 'l': 16,\n",
       " 'm': 4,\n",
       " 'n': 24,\n",
       " 'o': 13,\n",
       " 'p': 11,\n",
       " 'q': 2,\n",
       " 'r': 23,\n",
       " 's': 18,\n",
       " 't': 15,\n",
       " 'u': 15,\n",
       " 'v': 14,\n",
       " 'y': 1,\n",
       " 'è': 1,\n",
       " 'é': 13,\n",
       " '’': 3}"
      ]
     },
     "execution_count": 42,
     "metadata": {},
     "output_type": "execute_result"
    }
   ],
   "source": [
    "fst_paragraph = '''La démonstration a été parfaitement réussie. La fusée Falcon Heavy de SpaceX \n",
    "a décollé avec succès, mardi 6 février, depuis Cap Canaveral en Floride, \n",
    "devenant le lanceur le plus puissant du monde depuis le dernier vol, voici vingt-neuf ans, d’Energia, \n",
    "développé par l’Union soviétique. Le véhicule devait rester en orbite \n",
    "autour de la Terre pendant cinq heures avant de s’élancer vers Mars.'''\n",
    "\n",
    "count = {}\n",
    "count_2 = {}\n",
    "\n",
    "for character in fst_paragraph:\n",
    "    count.setdefault(character, 0)\n",
    "    count[character] +=  1        # access element of a dictionary\n",
    "    \n",
    "for word in fst_paragraph.split(\" \"):\n",
    "    count_2.setdefault(word, 0)\n",
    "    count_2[word] += 1\n",
    "    \n",
    "count"
   ]
  },
  {
   "cell_type": "code",
   "execution_count": 43,
   "metadata": {},
   "outputs": [
    {
     "name": "stdout",
     "output_type": "stream",
     "text": [
      "{'address': 'https://static.pexels.com/photos/60597/dahlia-red-blossom-bloom-60597.jpeg',\n",
      " 'color': 'greyscale',\n",
      " 'size': 28445,\n",
      " 'type': 'jpg'}\n"
     ]
    }
   ],
   "source": [
    "import pprint\n",
    "\n",
    "pprint.pprint(image)"
   ]
  },
  {
   "cell_type": "code",
   "execution_count": null,
   "metadata": {
    "collapsed": true
   },
   "outputs": [],
   "source": []
  },
  {
   "cell_type": "code",
   "execution_count": null,
   "metadata": {
    "collapsed": true
   },
   "outputs": [],
   "source": []
  },
  {
   "cell_type": "code",
   "execution_count": null,
   "metadata": {
    "collapsed": true
   },
   "outputs": [],
   "source": []
  },
  {
   "cell_type": "code",
   "execution_count": null,
   "metadata": {
    "collapsed": true
   },
   "outputs": [],
   "source": []
  },
  {
   "cell_type": "code",
   "execution_count": null,
   "metadata": {
    "collapsed": true
   },
   "outputs": [],
   "source": []
  },
  {
   "cell_type": "code",
   "execution_count": null,
   "metadata": {
    "collapsed": true
   },
   "outputs": [],
   "source": []
  },
  {
   "cell_type": "code",
   "execution_count": null,
   "metadata": {
    "collapsed": true
   },
   "outputs": [],
   "source": []
  },
  {
   "cell_type": "code",
   "execution_count": null,
   "metadata": {
    "collapsed": true
   },
   "outputs": [],
   "source": []
  },
  {
   "cell_type": "code",
   "execution_count": null,
   "metadata": {
    "collapsed": true
   },
   "outputs": [],
   "source": []
  }
 ],
 "metadata": {
  "kernelspec": {
   "display_name": "Python 3",
   "language": "python",
   "name": "python3"
  },
  "language_info": {
   "codemirror_mode": {
    "name": "ipython",
    "version": 3
   },
   "file_extension": ".py",
   "mimetype": "text/x-python",
   "name": "python",
   "nbconvert_exporter": "python",
   "pygments_lexer": "ipython3",
   "version": "3.6.3"
  }
 },
 "nbformat": 4,
 "nbformat_minor": 2
}
