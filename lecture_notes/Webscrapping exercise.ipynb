{
 "cells": [
  {
   "cell_type": "code",
   "execution_count": 33,
   "metadata": {},
   "outputs": [],
   "source": [
    "import bs4\n",
    "import requests\n",
    "\n",
    "\n",
    "r = requests.get('http://www.kultunaut.dk/perl/arrlist/type-nynaut/UK?showmap=&Area=Kbh.+og+Frederiksberg&periode=&Genre=Musik')\n",
    "r.raise_for_status()\n",
    "soup = bs4.BeautifulSoup(r.text, 'html5lib')\n",
    "\n",
    "select_elem = int(soup.select(\"b\")[2].getText().split()[3])\n",
    "find_all_elem = int(soup.find(\"td\", {\"style\" :\"background-color:#CBDCEE;color:#324669\"}).getText().split()[3])\n",
    "\n",
    "\n",
    "first_item_in_pages = [i for i in range(1, select_elem, 20)]\n",
    "\n",
    "base_url = \"http://www.kultunaut.dk/perl/arrlist/type-nynaut/UK?Startnr={}&showmap=&Area=Kbh.%20og%20Frederiksberg&periode=&Genre=Musik&\"\n",
    "urls = [base_url.format(i) for i in first_item_in_pages]\n",
    "\n",
    "#print(numbers)\n",
    "#print(urls)\n"
   ]
  },
  {
   "cell_type": "code",
   "execution_count": 59,
   "metadata": {},
   "outputs": [
    {
     "name": "stdout",
     "output_type": "stream",
     "text": [
      "Zanno Otis.\n",
      "Klokkekoncert.\n",
      "Veronica Mortensen Quartet.\n",
      "Fredagskoncert.\n",
      "Koncert.\n",
      "Påskekoncert - CARION Blæserkvintet.\n",
      "Bossa Nova and Latin Jazz!\n",
      "Viseaften om \"Kvinden og manden\".\n",
      "Jazz på Cafe Emma.\n",
      "Göteborg Symfonikerne.\n",
      "Jazz på Cafe Dan Turell.\n",
      "Koncert med musik af Carl Nielsen - for trompet og orgel.\n",
      "Martin Brygmann med Band & Danmarks Underholdningsorkester.\n",
      "Ramslag Folkets Hus Spillefolk.\n",
      "Sangaften med fremtidens stjerner på MGK.\n",
      "Blondage.\n",
      "Vokonis (swe) + Support.\n",
      "VETO (DK) - Ekstrakoncert.\n",
      "Charles McPherson Quartet.\n",
      "Rust Live.\n"
     ]
    }
   ],
   "source": [
    "r = requests.get('http://www.kultunaut.dk/perl/arrlist/type-nynaut/UK?showmap=&Area=Kbh.+og+Frederiksberg&periode=&Genre=Musik')\n",
    "r.raise_for_status()\n",
    "soup = bs4.BeautifulSoup(r.text, 'html5lib')\n",
    "\n",
    "event_cells = soup.find_all(\"td\", { \"width\" : \"100%\" , \"valign\" : \"top\"})\n",
    "scraped_events_per_page = ()\n",
    "\n",
    "for event_cell in event_cells:\n",
    "    try:\n",
    "        title = event_cell.find(\"b\").text\n",
    "        print(title)\n",
    "        spans = event_cell.find_all(\"span\")\n",
    "        place = spans[1].text\n",
    "        try:\n",
    "            date,price = spans[0].text.splitlines()\n",
    "        except ValueError as e:\n",
    "            date = spans[0].text.splitlines()[0]\n",
    "            price = \"\"\n",
    "    except:\n",
    "        print(\"Sorry could not find anything\")\n",
    "    scraped_events_per_page.append((title, palce, date,price))\n",
    "return scraped_events_per_page"
   ]
  },
  {
   "cell_type": "code",
   "execution_count": null,
   "metadata": {
    "collapsed": true
   },
   "outputs": [],
   "source": []
  }
 ],
 "metadata": {
  "kernelspec": {
   "display_name": "Python 3",
   "language": "python",
   "name": "python3"
  },
  "language_info": {
   "codemirror_mode": {
    "name": "ipython",
    "version": 3
   },
   "file_extension": ".py",
   "mimetype": "text/x-python",
   "name": "python",
   "nbconvert_exporter": "python",
   "pygments_lexer": "ipython3",
   "version": "3.6.3"
  }
 },
 "nbformat": 4,
 "nbformat_minor": 2
}
