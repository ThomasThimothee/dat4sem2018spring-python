{
 "cells": [
  {
   "cell_type": "code",
   "execution_count": 3,
   "metadata": {
    "collapsed": true
   },
   "outputs": [],
   "source": [
    "# https://www.espressoenglish.net/100-common-adjectives-in-english/ \n",
    "adj = [\"other\", \"new\", \"good\", \"high\", \"old\", \"great\", \"big\", \"American\",\n",
    "       \"small\", \"large\", \"national\", \"young\", \"different\", \"black\", \"long\", \n",
    "       \"little\", \"important\", \"political\", \"bad\", \"white\", \"real\", \"best\", \n",
    "       \"right\", \"social\", \"only\", \"public\", \"sure\", \"low\", \"early\", \"able\", \n",
    "       \"human\", \"local\", \"late\", \"hard\", \"major\", \"better\", \"economic\", \n",
    "       \"strong\", \"possible\", \"whole\", \"free\", \"military\", \"true\", \"federal\", \n",
    "       \"international\", \"full\", \"special\", \"easy\", \"clear\", \"recent\", \n",
    "       \"certain\", \"personal\", \"open\", \"red\", \"difficult\", \"available\", \n",
    "       \"likely\", \"short\", \"single\", \"medical\", \"current\", \"wrong\", \"private\", \n",
    "       \"past\", \"foreign\", \"fine\", \"common\", \"poor\", \"natural\", \"significant\", \n",
    "       \"similar\", \"hot\", \"dead\", \"central\", \"happy\", \"serious\", \"ready\", \n",
    "       \"simple\", \"left\", \"physical\", \"general\", \"environmental\", \"financial\", \n",
    "       \"blue\", \"democratic\", \"dark\", \"various\", \"entire\", \"close\", \"legal\", \n",
    "       \"religious\", \"cold\", \"final\", \"main\", \"green\", \"nice\", \"huge\", \n",
    "       \"popular\", \"traditional\", \"cultural\"] \n",
    "\n",
    "articles = [\"the\", \"a\", \"an\"] \n",
    "\n",
    "# https://www.espressoenglish.net/100-common-nouns-in-english/ \n",
    "nouns = [\"time\", \"year\", \"people\", \"way\", \"day\", \"man\", \"thing\", \"woman\",\n",
    "         \"life\", \"child\", \"world\", \"school\", \"state\", \"family\", \"student\", \n",
    "         \"group\", \"country\", \"problem\", \"hand\", \"part\", \"place\", \"case\", \n",
    "         \"week\", \"company\", \"system\", \"program\", \"question\", \"work\", \n",
    "         \"government\", \"number\", \"night\", \"point\", \"home\", \"water\", \"room\", \n",
    "         \"mother\", \"area\", \"money\", \"story\", \"fact\", \"month\", \"lot\", \"right\", \n",
    "         \"study\", \"book\", \"eye\", \"job\", \"word\", \"business\", \"issue\", \"side\", \n",
    "         \"kind\", \"head\", \"house\", \"service\", \"friend\", \"father\", \"power\", \n",
    "         \"hour\", \"game\", \"line\", \"end\", \"member\", \"law\", \"car\", \"city\", \n",
    "         \"community\", \"name\", \"president\", \"team\", \"minute\", \"idea\", \"kid\", \n",
    "         \"body\", \"information\", \"back\", \"parent\", \"face\", \"others\", \"level\", \n",
    "         \"office\", \"door\", \"health\", \"person\", \"art\", \"war\", \"history\", \n",
    "         \"party\", \"result\", \"change\", \"morning\", \"reason\", \"research\", \"girl\", \n",
    "         \"guy\", \"moment\", \"air\", \"teacher\", \"force\", \"education\"] \n",
    "\n",
    "# https://www.espressoenglish.net/100-most-common-english-verbs/ \n",
    "verbs = [\"be\", \"have\", \"do\", \"say\", \"go\", \"can\", \"get\", \"would\", \"make\",        \n",
    "         \"know\", \"will\", \"think\", \"take\", \"see\", \"come\", \"could\", \"want\", \n",
    "         \"look\", \"use\", \"find\", \"give\", \"tell\", \"work\", \"may\", \"should\", \n",
    "         \"call\", \"try\", \"ask\", \"need\", \"feel\", \"become\", \"leave\", \"put\", \n",
    "         \"mean\", \"keep\", \"let\", \"begin\", \"seem\", \"help\", \"talk\", \"turn\", \n",
    "         \"start\", \"might\", \"show\", \"hear\", \"play\", \"run\", \"move\", \"like\", \n",
    "         \"live\", \"believe\", \"hold\", \"bring\", \"happen\", \"must\", \"write\", \n",
    "         \"provide\", \"sit\", \"stand\", \"lose\", \"pay\", \"meet\", \"include\", \n",
    "         \"continue\", \"set\", \"learn\", \"change\", \"lead\", \"understand\", \"watch\", \n",
    "         \"follow\", \"stop\", \"create\", \"speak\", \"read\", \"allow\", \"add\", \"spend\", \n",
    "         \"grow\", \"open\", \"walk\", \"win\", \"offer\", \"remember\", \"love\", \n",
    "         \"consider\", \"appear\", \"buy\", \"wait\", \"serve\", \"die\", \"send\", \"expect\", \n",
    "         \"build\", \"stay\", \"fall\", \"cut\", \"reach\", \"kill\", \"remain\"]\n"
   ]
  },
  {
   "cell_type": "code",
   "execution_count": 25,
   "metadata": {},
   "outputs": [
    {
     "name": "stdout",
     "output_type": "stream",
     "text": [
      "the low area show\n"
     ]
    }
   ],
   "source": [
    "import random\n",
    "\n",
    "article = random.choices(articles) # return an element, so a list\n",
    "adjective = random.choices(adj)\n",
    "noun = random.choices(nouns)\n",
    "verb = random.choices(verbs)\n",
    "sentence = \" \".join(article + adjective + noun + verb) # joint is possible on a list\n",
    "print(sentence)"
   ]
  },
  {
   "cell_type": "code",
   "execution_count": 31,
   "metadata": {},
   "outputs": [
    {
     "name": "stdout",
     "output_type": "stream",
     "text": [
      "30000\n"
     ]
    }
   ],
   "source": [
    "count = 0\n",
    "art =\"\"\n",
    "ad = \"\"\n",
    "n = \"\"\n",
    "ver = \"\"\n",
    "\n",
    "for article in articles:\n",
    "    sentence = \"\"\n",
    "    art = article\n",
    "    for adjective in adj:\n",
    "        ad = adjective\n",
    "        for noun in nouns:\n",
    "            n = noun\n",
    "            for verb in verbs:\n",
    "                ver = verb\n",
    "            #    print(art + \" \" + ad + \" \" + n + \" \" + ver)\n",
    "                count = count + 1\n",
    "print(count)"
   ]
  },
  {
   "cell_type": "code",
   "execution_count": null,
   "metadata": {
    "collapsed": true
   },
   "outputs": [],
   "source": [
    "for x in articles:\n",
    "    for v in adj:\n",
    "        for z in verbs:\n",
    "          #  print(x,\" \", v , \" \", z )\n",
    "            print(\" \".join([x, v, z])) # can join a list so cast x, v and z into a list"
   ]
  },
  {
   "cell_type": "code",
   "execution_count": null,
   "metadata": {
    "collapsed": true
   },
   "outputs": [],
   "source": [
    "lst = []\n",
    "for article in articles:\n",
    "    for adjective in adj:\n",
    "        for noun in nouns:\n",
    "            for verb in verbs:\n",
    "                lst.append(article + \" \" + adjective + \" \" + noun + \" \" + verb)\n",
    "                \n",
    "                "
   ]
  }
 ],
 "metadata": {
  "kernelspec": {
   "display_name": "Python 3",
   "language": "python",
   "name": "python3"
  },
  "language_info": {
   "codemirror_mode": {
    "name": "ipython",
    "version": 3
   },
   "file_extension": ".py",
   "mimetype": "text/x-python",
   "name": "python",
   "nbconvert_exporter": "python",
   "pygments_lexer": "ipython3",
   "version": "3.6.3"
  }
 },
 "nbformat": 4,
 "nbformat_minor": 2
}
