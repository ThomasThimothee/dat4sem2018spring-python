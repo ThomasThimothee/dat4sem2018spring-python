{
 "cells": [
  {
   "cell_type": "code",
   "execution_count": 21,
   "metadata": {},
   "outputs": [
    {
     "data": {
      "image/png": "[encoded data removed]",
      "text/plain": [
       "<matplotlib.figure.Figure at 0x11111e828>"
      ]
     },
     "metadata": {},
     "output_type": "display_data"
    }
   ],
   "source": [
    "import matplotlib.pyplot as plt\n",
    "import numpy as np\n",
    "\n",
    "def activation_function(x):\n",
    "    if x < 0.0:\n",
    "        return -1.0 \n",
    "    else:\n",
    "        return 1.0\n",
    "\n",
    "def plot_activation(count):\n",
    "    x_range = np.linspace(-10, 10, num=count)\n",
    "    plt.plot(x_range, [activation_function(x) for x in x_range]  )\n",
    "    plt.show()\n",
    "    \n",
    "plot_activation(1000)    "
   ]
  },
  {
   "cell_type": "code",
   "execution_count": 33,
   "metadata": {},
   "outputs": [
    {
     "data": {
      "text/plain": [
       "1.0"
      ]
     },
     "execution_count": 33,
     "metadata": {},
     "output_type": "execute_result"
    }
   ],
   "source": [
    "def perceptron(inp, weights):\n",
    "   # products = [x * weights[idx] for idx, x in enumerate(inp)]\n",
    "    sum_of_inp_times_weight = sum([x * y for x, y in zip(inp, weights)])\n",
    "    return activation_function(sum_of_inp_times_weight)\n",
    "    \n",
    "my_inp = [1.4, 1, 2.3] \n",
    "my_weights = [1.3, 0.45, 1.3]\n",
    "\n",
    "perceptron(my_inp, my_weights)      "
   ]
  },
  {
   "cell_type": "code",
   "execution_count": null,
   "metadata": {
    "collapsed": true
   },
   "outputs": [],
   "source": [
    "def predict(inp_vec, weights):\n",
    "    \"\"\"\n",
    "    inp_vec:\n",
    "        An input vector consisting of sepal length and width\n",
    "    return:\n",
    "        A class label, either 1 for 'setosa' or -1 for 'other'\n",
    "    \"\"\"\n",
    "    class_label = perceptron(inp_vec, weights)\n",
    "    return class_label\n",
    "    "
   ]
  },
  {
   "cell_type": "code",
   "execution_count": null,
   "metadata": {
    "collapsed": true
   },
   "outputs": [],
   "source": [
    "def pla(training_data, no_iterations=10000, eta=0.5):\n",
    "    error = error"
   ]
  }
 ],
 "metadata": {
  "kernelspec": {
   "display_name": "Python 3",
   "language": "python",
   "name": "python3"
  },
  "language_info": {
   "codemirror_mode": {
    "name": "ipython",
    "version": 3
   },
   "file_extension": ".py",
   "mimetype": "text/x-python",
   "name": "python",
   "nbconvert_exporter": "python",
   "pygments_lexer": "ipython3",
   "version": "3.6.3"
  }
 },
 "nbformat": 4,
 "nbformat_minor": 2
}
