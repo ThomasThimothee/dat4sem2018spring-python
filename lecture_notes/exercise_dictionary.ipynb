{
 "cells": [
  {
   "cell_type": "code",
   "execution_count": 2,
   "metadata": {
    "collapsed": true
   },
   "outputs": [],
   "source": [
    "  grammar = {\n",
    "      \"_S\"  : [\"_NP _VP\"],\n",
    "      \"_NP\" : [\"_N\",\n",
    "               \"_A _NP _P _A _N\"],\n",
    "      \"_VP\" : [\"_V\",\n",
    "               \"_V _NP\"],\n",
    "      \"_N\"  : [\"developer\", \"teacher\", \"student\"],\n",
    "      \"_A\"  : [\"smart\", \"interesting\", \"nice\", \"desperate\", \"anoying\"],\n",
    "      \"_P\"  : [\"about\", \"near\"],\n",
    "      \"_V\"  : [\"learns\", \"trains\", \"tests\", \"is\", \"studies\", \"asks\"]\n",
    "  }\n",
    "    "
   ]
  },
  {
   "cell_type": "code",
   "execution_count": 9,
   "metadata": {},
   "outputs": [
    {
     "name": "stdout",
     "output_type": "stream",
     "text": [
      "desperate anoying anoying anoying interesting teacher near smart student near desperate developer near nice student near desperate developer near anoying developer \n"
     ]
    }
   ],
   "source": [
    "import random\n",
    "def expand(grammar_dic, rule):\n",
    "    str = \"\"\n",
    "    values = random.choice(grammar_dic[rule])\n",
    "    if values[0] != \"_\":\n",
    "        choice = random.choice(grammar_dic[rule])\n",
    "        str += choice + \" \"\n",
    "        return str\n",
    "    else:\n",
    "        values = values.split(\" \")\n",
    "        for value in values:\n",
    "            str += expand(grammar_dic, value)\n",
    "        return str\n",
    "\n",
    "print(expand(grammar, \"_NP\"))"
   ]
  },
  {
   "cell_type": "code",
   "execution_count": null,
   "metadata": {
    "collapsed": true
   },
   "outputs": [],
   "source": []
  }
 ],
 "metadata": {
  "kernelspec": {
   "display_name": "Python 3",
   "language": "python",
   "name": "python3"
  },
  "language_info": {
   "codemirror_mode": {
    "name": "ipython",
    "version": 3
   },
   "file_extension": ".py",
   "mimetype": "text/x-python",
   "name": "python",
   "nbconvert_exporter": "python",
   "pygments_lexer": "ipython3",
   "version": "3.6.3"
  }
 },
 "nbformat": 4,
 "nbformat_minor": 2
}
