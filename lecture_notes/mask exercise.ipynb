{
 "cells": [
  {
   "cell_type": "code",
   "execution_count": 20,
   "metadata": {},
   "outputs": [
    {
     "data": {
      "text/plain": [
       "4102"
      ]
     },
     "execution_count": 20,
     "metadata": {},
     "output_type": "execute_result"
    }
   ],
   "source": [
    "import pandas as pd\n",
    "import numpy as np\n",
    "\n",
    "filename = './befkbhalderstatkode.csv'\n",
    "\n",
    "bef_stats_df = pd.read_csv(filename)\n",
    "dd = bef_stats_df.as_matrix()\n",
    "dd\n",
    "mask= (dd[: ,0] == 2015) & (dd[:, 3] == 5100) & (dd[:, 2] == 18) #with mask you set rules for how you want to filter your array\n",
    "np.sum(dd[mask][:, 4])"
   ]
  }
 ],
 "metadata": {
  "kernelspec": {
   "display_name": "Python 3",
   "language": "python",
   "name": "python3"
  },
  "language_info": {
   "codemirror_mode": {
    "name": "ipython",
    "version": 3
   },
   "file_extension": ".py",
   "mimetype": "text/x-python",
   "name": "python",
   "nbconvert_exporter": "python",
   "pygments_lexer": "ipython3",
   "version": "3.6.3"
  }
 },
 "nbformat": 4,
 "nbformat_minor": 2
}
